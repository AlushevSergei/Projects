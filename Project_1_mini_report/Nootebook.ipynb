{
 "cells": [
  {
   "cell_type": "markdown",
   "id": "200b2225",
   "metadata": {},
   "source": [
    "# Минипроект по иссследованию данных и примениению Airflow"
   ]
  },
  {
   "cell_type": "code",
   "execution_count": 2,
   "id": "e6c2aa92",
   "metadata": {},
   "outputs": [
    {
     "name": "stdout",
     "output_type": "stream",
     "text": [
      "Collecting vk-api\n",
      "  Downloading vk_api-11.9.9-py3-none-any.whl (48 kB)\n",
      "     -------------------------------------- 48.6/48.6 kB 111.8 kB/s eta 0:00:00\n",
      "Requirement already satisfied: requests in c:\\users\\user\\anaconda3\\lib\\site-packages (from vk-api) (2.28.1)\n",
      "Requirement already satisfied: certifi>=2017.4.17 in c:\\users\\user\\anaconda3\\lib\\site-packages (from requests->vk-api) (2022.9.14)\n",
      "Requirement already satisfied: charset-normalizer<3,>=2 in c:\\users\\user\\anaconda3\\lib\\site-packages (from requests->vk-api) (2.0.4)\n",
      "Requirement already satisfied: urllib3<1.27,>=1.21.1 in c:\\users\\user\\anaconda3\\lib\\site-packages (from requests->vk-api) (1.26.11)\n",
      "Requirement already satisfied: idna<4,>=2.5 in c:\\users\\user\\anaconda3\\lib\\site-packages (from requests->vk-api) (3.3)\n",
      "Installing collected packages: vk-api\n",
      "Successfully installed vk-api-11.9.9\n",
      "Note: you may need to restart the kernel to use updated packages.\n"
     ]
    }
   ],
   "source": [
    "pip install vk-api"
   ]
  },
  {
   "cell_type": "code",
   "execution_count": 1,
   "id": "6f3d9b04",
   "metadata": {},
   "outputs": [],
   "source": [
    "import pandas as pd\n",
    "import numpy as np\n",
    "import vk_api\n",
    "import random"
   ]
  },
  {
   "cell_type": "code",
   "execution_count": 2,
   "id": "87d466c7",
   "metadata": {},
   "outputs": [],
   "source": [
    "ads = pd.read_csv('ads_data_121288.csv')"
   ]
  },
  {
   "cell_type": "code",
   "execution_count": 3,
   "id": "d90c83a0",
   "metadata": {},
   "outputs": [
    {
     "data": {
      "text/html": [
       "<div>\n",
       "<style scoped>\n",
       "    .dataframe tbody tr th:only-of-type {\n",
       "        vertical-align: middle;\n",
       "    }\n",
       "\n",
       "    .dataframe tbody tr th {\n",
       "        vertical-align: top;\n",
       "    }\n",
       "\n",
       "    .dataframe thead th {\n",
       "        text-align: right;\n",
       "    }\n",
       "</style>\n",
       "<table border=\"1\" class=\"dataframe\">\n",
       "  <thead>\n",
       "    <tr style=\"text-align: right;\">\n",
       "      <th></th>\n",
       "      <th>date</th>\n",
       "      <th>time</th>\n",
       "      <th>event</th>\n",
       "      <th>platform</th>\n",
       "      <th>ad_id</th>\n",
       "      <th>ad_cost_type</th>\n",
       "      <th>ad_cost</th>\n",
       "    </tr>\n",
       "  </thead>\n",
       "  <tbody>\n",
       "    <tr>\n",
       "      <th>0</th>\n",
       "      <td>2019-04-01</td>\n",
       "      <td>2019-04-01 0:00:48</td>\n",
       "      <td>view</td>\n",
       "      <td>web</td>\n",
       "      <td>121288</td>\n",
       "      <td>CPM</td>\n",
       "      <td>187.4</td>\n",
       "    </tr>\n",
       "    <tr>\n",
       "      <th>1</th>\n",
       "      <td>2019-04-01</td>\n",
       "      <td>2019-04-01 0:04:41</td>\n",
       "      <td>view</td>\n",
       "      <td>ios</td>\n",
       "      <td>121288</td>\n",
       "      <td>CPM</td>\n",
       "      <td>187.4</td>\n",
       "    </tr>\n",
       "    <tr>\n",
       "      <th>2</th>\n",
       "      <td>2019-04-01</td>\n",
       "      <td>2019-04-01 0:07:50</td>\n",
       "      <td>view</td>\n",
       "      <td>android</td>\n",
       "      <td>121288</td>\n",
       "      <td>CPM</td>\n",
       "      <td>187.4</td>\n",
       "    </tr>\n",
       "    <tr>\n",
       "      <th>3</th>\n",
       "      <td>2019-04-01</td>\n",
       "      <td>2019-04-01 0:07:50</td>\n",
       "      <td>view</td>\n",
       "      <td>android</td>\n",
       "      <td>121288</td>\n",
       "      <td>CPM</td>\n",
       "      <td>187.4</td>\n",
       "    </tr>\n",
       "    <tr>\n",
       "      <th>4</th>\n",
       "      <td>2019-04-01</td>\n",
       "      <td>2019-04-01 0:08:46</td>\n",
       "      <td>view</td>\n",
       "      <td>ios</td>\n",
       "      <td>121288</td>\n",
       "      <td>CPM</td>\n",
       "      <td>187.4</td>\n",
       "    </tr>\n",
       "  </tbody>\n",
       "</table>\n",
       "</div>"
      ],
      "text/plain": [
       "         date                time event platform   ad_id ad_cost_type  ad_cost\n",
       "0  2019-04-01  2019-04-01 0:00:48  view      web  121288          CPM    187.4\n",
       "1  2019-04-01  2019-04-01 0:04:41  view      ios  121288          CPM    187.4\n",
       "2  2019-04-01  2019-04-01 0:07:50  view  android  121288          CPM    187.4\n",
       "3  2019-04-01  2019-04-01 0:07:50  view  android  121288          CPM    187.4\n",
       "4  2019-04-01  2019-04-01 0:08:46  view      ios  121288          CPM    187.4"
      ]
     },
     "execution_count": 3,
     "metadata": {},
     "output_type": "execute_result"
    }
   ],
   "source": [
    "ads.head()"
   ]
  },
  {
   "cell_type": "code",
   "execution_count": 4,
   "id": "04178dce",
   "metadata": {},
   "outputs": [
    {
     "data": {
      "text/plain": [
       "2"
      ]
     },
     "execution_count": 4,
     "metadata": {},
     "output_type": "execute_result"
    }
   ],
   "source": [
    "ads.event.nunique()  # Количество уникальных значений по event"
   ]
  },
  {
   "cell_type": "code",
   "execution_count": 5,
   "id": "ca817a28",
   "metadata": {},
   "outputs": [
    {
     "data": {
      "text/plain": [
       "array(['view', 'click'], dtype=object)"
      ]
     },
     "execution_count": 5,
     "metadata": {},
     "output_type": "execute_result"
    }
   ],
   "source": [
    "ads.event.unique() # Уникальные начения по event"
   ]
  },
  {
   "cell_type": "code",
   "execution_count": 6,
   "id": "1801cf1f",
   "metadata": {},
   "outputs": [
    {
     "data": {
      "text/plain": [
       "array(['2019-04-01', '2019-04-02'], dtype=object)"
      ]
     },
     "execution_count": 6,
     "metadata": {},
     "output_type": "execute_result"
    }
   ],
   "source": [
    "ads.date.unique() # Только две даты"
   ]
  },
  {
   "cell_type": "markdown",
   "id": "29050155",
   "metadata": {},
   "source": [
    "### Необходимые метрики: \n",
    "Количество показов, количество кликов, CTR(отношение кликов к показам), сумма потраченных денег\n",
    "\n",
    "### Отчет по объявлению 121288 за 2 апреля\n",
    "Траты: Х рублей (+Y%)\n",
    "\n",
    "Показы: X (+Y%)\n",
    "\n",
    "Клики: X (-Y%)\n",
    "\n",
    "CTR: X (-Y%)   "
   ]
  },
  {
   "cell_type": "code",
   "execution_count": 7,
   "id": "9ccea4de",
   "metadata": {},
   "outputs": [
    {
     "data": {
      "text/html": [
       "<div>\n",
       "<style scoped>\n",
       "    .dataframe tbody tr th:only-of-type {\n",
       "        vertical-align: middle;\n",
       "    }\n",
       "\n",
       "    .dataframe tbody tr th {\n",
       "        vertical-align: top;\n",
       "    }\n",
       "\n",
       "    .dataframe thead th {\n",
       "        text-align: right;\n",
       "    }\n",
       "</style>\n",
       "<table border=\"1\" class=\"dataframe\">\n",
       "  <thead>\n",
       "    <tr style=\"text-align: right;\">\n",
       "      <th></th>\n",
       "      <th>date</th>\n",
       "      <th>ad_id</th>\n",
       "      <th>time</th>\n",
       "      <th>event</th>\n",
       "      <th>platform</th>\n",
       "      <th>ad_cost_type</th>\n",
       "      <th>ad_cost</th>\n",
       "    </tr>\n",
       "  </thead>\n",
       "  <tbody>\n",
       "    <tr>\n",
       "      <th>0</th>\n",
       "      <td>2019-04-01</td>\n",
       "      <td>121288</td>\n",
       "      <td>491</td>\n",
       "      <td>491</td>\n",
       "      <td>491</td>\n",
       "      <td>491</td>\n",
       "      <td>491</td>\n",
       "    </tr>\n",
       "    <tr>\n",
       "      <th>1</th>\n",
       "      <td>2019-04-02</td>\n",
       "      <td>121288</td>\n",
       "      <td>93</td>\n",
       "      <td>93</td>\n",
       "      <td>93</td>\n",
       "      <td>93</td>\n",
       "      <td>93</td>\n",
       "    </tr>\n",
       "  </tbody>\n",
       "</table>\n",
       "</div>"
      ],
      "text/plain": [
       "         date   ad_id  time  event  platform  ad_cost_type  ad_cost\n",
       "0  2019-04-01  121288   491    491       491           491      491\n",
       "1  2019-04-02  121288    93     93        93            93       93"
      ]
     },
     "execution_count": 7,
     "metadata": {},
     "output_type": "execute_result"
    }
   ],
   "source": [
    "ads[ads['event']=='view'].groupby(['date','ad_id']).count().reset_index()"
   ]
  },
  {
   "cell_type": "code",
   "execution_count": 8,
   "id": "b814d90e",
   "metadata": {},
   "outputs": [],
   "source": [
    "ads_views = ads[ads['event']=='view'].groupby(['date','ad_id']).count().reset_index()[['date','ad_id', 'event']]\n",
    "#ads_views.columns ['date','ad_id', 'views']"
   ]
  },
  {
   "cell_type": "code",
   "execution_count": 11,
   "id": "fee22f28",
   "metadata": {},
   "outputs": [],
   "source": [
    "ads_clicks = ads[ads['event']=='click'].groupby(['date','ad_id']).count().reset_index()[['date','ad_id', 'event']]\n",
    "# ads_clicks.columns['date','ad_id', 'clicks']"
   ]
  },
  {
   "cell_type": "code",
   "execution_count": 12,
   "id": "029900a5",
   "metadata": {},
   "outputs": [
    {
     "data": {
      "text/html": [
       "<div>\n",
       "<style scoped>\n",
       "    .dataframe tbody tr th:only-of-type {\n",
       "        vertical-align: middle;\n",
       "    }\n",
       "\n",
       "    .dataframe tbody tr th {\n",
       "        vertical-align: top;\n",
       "    }\n",
       "\n",
       "    .dataframe thead th {\n",
       "        text-align: right;\n",
       "    }\n",
       "</style>\n",
       "<table border=\"1\" class=\"dataframe\">\n",
       "  <thead>\n",
       "    <tr style=\"text-align: right;\">\n",
       "      <th></th>\n",
       "      <th>date</th>\n",
       "      <th>ad_id</th>\n",
       "      <th>event</th>\n",
       "    </tr>\n",
       "  </thead>\n",
       "  <tbody>\n",
       "    <tr>\n",
       "      <th>0</th>\n",
       "      <td>2019-04-01</td>\n",
       "      <td>121288</td>\n",
       "      <td>491</td>\n",
       "    </tr>\n",
       "    <tr>\n",
       "      <th>1</th>\n",
       "      <td>2019-04-02</td>\n",
       "      <td>121288</td>\n",
       "      <td>93</td>\n",
       "    </tr>\n",
       "  </tbody>\n",
       "</table>\n",
       "</div>"
      ],
      "text/plain": [
       "         date   ad_id  event\n",
       "0  2019-04-01  121288    491\n",
       "1  2019-04-02  121288     93"
      ]
     },
     "execution_count": 12,
     "metadata": {},
     "output_type": "execute_result"
    }
   ],
   "source": [
    "ads_views"
   ]
  },
  {
   "cell_type": "code",
   "execution_count": 13,
   "id": "e69b0690",
   "metadata": {},
   "outputs": [
    {
     "data": {
      "text/html": [
       "<div>\n",
       "<style scoped>\n",
       "    .dataframe tbody tr th:only-of-type {\n",
       "        vertical-align: middle;\n",
       "    }\n",
       "\n",
       "    .dataframe tbody tr th {\n",
       "        vertical-align: top;\n",
       "    }\n",
       "\n",
       "    .dataframe thead th {\n",
       "        text-align: right;\n",
       "    }\n",
       "</style>\n",
       "<table border=\"1\" class=\"dataframe\">\n",
       "  <thead>\n",
       "    <tr style=\"text-align: right;\">\n",
       "      <th></th>\n",
       "      <th>date</th>\n",
       "      <th>ad_id</th>\n",
       "      <th>event</th>\n",
       "    </tr>\n",
       "  </thead>\n",
       "  <tbody>\n",
       "    <tr>\n",
       "      <th>0</th>\n",
       "      <td>2019-04-01</td>\n",
       "      <td>121288</td>\n",
       "      <td>17</td>\n",
       "    </tr>\n",
       "    <tr>\n",
       "      <th>1</th>\n",
       "      <td>2019-04-02</td>\n",
       "      <td>121288</td>\n",
       "      <td>6</td>\n",
       "    </tr>\n",
       "  </tbody>\n",
       "</table>\n",
       "</div>"
      ],
      "text/plain": [
       "         date   ad_id  event\n",
       "0  2019-04-01  121288     17\n",
       "1  2019-04-02  121288      6"
      ]
     },
     "execution_count": 13,
     "metadata": {},
     "output_type": "execute_result"
    }
   ],
   "source": [
    "ads_clicks"
   ]
  },
  {
   "cell_type": "code",
   "execution_count": 14,
   "id": "fa05a5fa",
   "metadata": {},
   "outputs": [],
   "source": [
    "# Объединяем таблицы по 'date'и 'ad_id'\n",
    "ads_ctr = pd.merge(ads_views, ads_clicks, on = ['date', 'ad_id'])"
   ]
  },
  {
   "cell_type": "code",
   "execution_count": 15,
   "id": "a6988050",
   "metadata": {},
   "outputs": [
    {
     "data": {
      "text/html": [
       "<div>\n",
       "<style scoped>\n",
       "    .dataframe tbody tr th:only-of-type {\n",
       "        vertical-align: middle;\n",
       "    }\n",
       "\n",
       "    .dataframe tbody tr th {\n",
       "        vertical-align: top;\n",
       "    }\n",
       "\n",
       "    .dataframe thead th {\n",
       "        text-align: right;\n",
       "    }\n",
       "</style>\n",
       "<table border=\"1\" class=\"dataframe\">\n",
       "  <thead>\n",
       "    <tr style=\"text-align: right;\">\n",
       "      <th></th>\n",
       "      <th>date</th>\n",
       "      <th>ad_id</th>\n",
       "      <th>event_x</th>\n",
       "      <th>event_y</th>\n",
       "    </tr>\n",
       "  </thead>\n",
       "  <tbody>\n",
       "    <tr>\n",
       "      <th>0</th>\n",
       "      <td>2019-04-01</td>\n",
       "      <td>121288</td>\n",
       "      <td>491</td>\n",
       "      <td>17</td>\n",
       "    </tr>\n",
       "    <tr>\n",
       "      <th>1</th>\n",
       "      <td>2019-04-02</td>\n",
       "      <td>121288</td>\n",
       "      <td>93</td>\n",
       "      <td>6</td>\n",
       "    </tr>\n",
       "  </tbody>\n",
       "</table>\n",
       "</div>"
      ],
      "text/plain": [
       "         date   ad_id  event_x  event_y\n",
       "0  2019-04-01  121288      491       17\n",
       "1  2019-04-02  121288       93        6"
      ]
     },
     "execution_count": 15,
     "metadata": {},
     "output_type": "execute_result"
    }
   ],
   "source": [
    "ads_ctr"
   ]
  },
  {
   "cell_type": "code",
   "execution_count": 16,
   "id": "344ae9ef",
   "metadata": {},
   "outputs": [],
   "source": [
    "# CTR (отношение кликов к показам), добавляем новый столбец\n",
    "ads_ctr['CTR'] = ads_ctr['event_y']/ads_ctr['event_x']*100\n"
   ]
  },
  {
   "cell_type": "code",
   "execution_count": 24,
   "id": "9e51b86f",
   "metadata": {},
   "outputs": [
    {
     "data": {
      "text/html": [
       "<div>\n",
       "<style scoped>\n",
       "    .dataframe tbody tr th:only-of-type {\n",
       "        vertical-align: middle;\n",
       "    }\n",
       "\n",
       "    .dataframe tbody tr th {\n",
       "        vertical-align: top;\n",
       "    }\n",
       "\n",
       "    .dataframe thead th {\n",
       "        text-align: right;\n",
       "    }\n",
       "</style>\n",
       "<table border=\"1\" class=\"dataframe\">\n",
       "  <thead>\n",
       "    <tr style=\"text-align: right;\">\n",
       "      <th></th>\n",
       "      <th>date</th>\n",
       "      <th>ad_id</th>\n",
       "      <th>event_x</th>\n",
       "      <th>event_y</th>\n",
       "      <th>CTR</th>\n",
       "      <th>money</th>\n",
       "    </tr>\n",
       "  </thead>\n",
       "  <tbody>\n",
       "    <tr>\n",
       "      <th>0</th>\n",
       "      <td>2019-04-01</td>\n",
       "      <td>121288</td>\n",
       "      <td>491</td>\n",
       "      <td>17</td>\n",
       "      <td>3.462322</td>\n",
       "      <td>92.0134</td>\n",
       "    </tr>\n",
       "    <tr>\n",
       "      <th>1</th>\n",
       "      <td>2019-04-02</td>\n",
       "      <td>121288</td>\n",
       "      <td>93</td>\n",
       "      <td>6</td>\n",
       "      <td>6.451613</td>\n",
       "      <td>17.4282</td>\n",
       "    </tr>\n",
       "  </tbody>\n",
       "</table>\n",
       "</div>"
      ],
      "text/plain": [
       "         date   ad_id  event_x  event_y       CTR    money\n",
       "0  2019-04-01  121288      491       17  3.462322  92.0134\n",
       "1  2019-04-02  121288       93        6  6.451613  17.4282"
      ]
     },
     "execution_count": 24,
     "metadata": {},
     "output_type": "execute_result"
    }
   ],
   "source": [
    "ads_ctr"
   ]
  },
  {
   "cell_type": "code",
   "execution_count": null,
   "id": "4a775d77",
   "metadata": {},
   "outputs": [],
   "source": [
    "# Рассчитать сумму потраченных денег можно по следующей формуле:\n",
    "# Значение из колонки ad_cost разделить на 1000 и умножить на количество показов объявления.\n"
   ]
  },
  {
   "cell_type": "code",
   "execution_count": 18,
   "id": "b794e8ed",
   "metadata": {},
   "outputs": [
    {
     "data": {
      "text/html": [
       "<div>\n",
       "<style scoped>\n",
       "    .dataframe tbody tr th:only-of-type {\n",
       "        vertical-align: middle;\n",
       "    }\n",
       "\n",
       "    .dataframe tbody tr th {\n",
       "        vertical-align: top;\n",
       "    }\n",
       "\n",
       "    .dataframe thead th {\n",
       "        text-align: right;\n",
       "    }\n",
       "</style>\n",
       "<table border=\"1\" class=\"dataframe\">\n",
       "  <thead>\n",
       "    <tr style=\"text-align: right;\">\n",
       "      <th></th>\n",
       "      <th>date</th>\n",
       "      <th>time</th>\n",
       "      <th>event</th>\n",
       "      <th>platform</th>\n",
       "      <th>ad_id</th>\n",
       "      <th>ad_cost_type</th>\n",
       "      <th>ad_cost</th>\n",
       "      <th>ad_action_cost</th>\n",
       "    </tr>\n",
       "  </thead>\n",
       "  <tbody>\n",
       "    <tr>\n",
       "      <th>0</th>\n",
       "      <td>2019-04-01</td>\n",
       "      <td>2019-04-01 0:00:48</td>\n",
       "      <td>view</td>\n",
       "      <td>web</td>\n",
       "      <td>121288</td>\n",
       "      <td>CPM</td>\n",
       "      <td>187.4</td>\n",
       "      <td>0.1874</td>\n",
       "    </tr>\n",
       "    <tr>\n",
       "      <th>1</th>\n",
       "      <td>2019-04-01</td>\n",
       "      <td>2019-04-01 0:04:41</td>\n",
       "      <td>view</td>\n",
       "      <td>ios</td>\n",
       "      <td>121288</td>\n",
       "      <td>CPM</td>\n",
       "      <td>187.4</td>\n",
       "      <td>0.1874</td>\n",
       "    </tr>\n",
       "    <tr>\n",
       "      <th>2</th>\n",
       "      <td>2019-04-01</td>\n",
       "      <td>2019-04-01 0:07:50</td>\n",
       "      <td>view</td>\n",
       "      <td>android</td>\n",
       "      <td>121288</td>\n",
       "      <td>CPM</td>\n",
       "      <td>187.4</td>\n",
       "      <td>0.1874</td>\n",
       "    </tr>\n",
       "    <tr>\n",
       "      <th>3</th>\n",
       "      <td>2019-04-01</td>\n",
       "      <td>2019-04-01 0:07:50</td>\n",
       "      <td>view</td>\n",
       "      <td>android</td>\n",
       "      <td>121288</td>\n",
       "      <td>CPM</td>\n",
       "      <td>187.4</td>\n",
       "      <td>0.1874</td>\n",
       "    </tr>\n",
       "    <tr>\n",
       "      <th>4</th>\n",
       "      <td>2019-04-01</td>\n",
       "      <td>2019-04-01 0:08:46</td>\n",
       "      <td>view</td>\n",
       "      <td>ios</td>\n",
       "      <td>121288</td>\n",
       "      <td>CPM</td>\n",
       "      <td>187.4</td>\n",
       "      <td>0.1874</td>\n",
       "    </tr>\n",
       "    <tr>\n",
       "      <th>...</th>\n",
       "      <td>...</td>\n",
       "      <td>...</td>\n",
       "      <td>...</td>\n",
       "      <td>...</td>\n",
       "      <td>...</td>\n",
       "      <td>...</td>\n",
       "      <td>...</td>\n",
       "      <td>...</td>\n",
       "    </tr>\n",
       "    <tr>\n",
       "      <th>602</th>\n",
       "      <td>2019-04-02</td>\n",
       "      <td>2019-04-01 22:39:16</td>\n",
       "      <td>click</td>\n",
       "      <td>android</td>\n",
       "      <td>121288</td>\n",
       "      <td>CPM</td>\n",
       "      <td>187.4</td>\n",
       "      <td>0.1874</td>\n",
       "    </tr>\n",
       "    <tr>\n",
       "      <th>603</th>\n",
       "      <td>2019-04-02</td>\n",
       "      <td>2019-04-01 22:40:29</td>\n",
       "      <td>click</td>\n",
       "      <td>android</td>\n",
       "      <td>121288</td>\n",
       "      <td>CPM</td>\n",
       "      <td>187.4</td>\n",
       "      <td>0.1874</td>\n",
       "    </tr>\n",
       "    <tr>\n",
       "      <th>604</th>\n",
       "      <td>2019-04-02</td>\n",
       "      <td>2019-04-01 22:40:31</td>\n",
       "      <td>click</td>\n",
       "      <td>web</td>\n",
       "      <td>121288</td>\n",
       "      <td>CPM</td>\n",
       "      <td>187.4</td>\n",
       "      <td>0.1874</td>\n",
       "    </tr>\n",
       "    <tr>\n",
       "      <th>605</th>\n",
       "      <td>2019-04-02</td>\n",
       "      <td>2019-04-01 22:44:14</td>\n",
       "      <td>click</td>\n",
       "      <td>ios</td>\n",
       "      <td>121288</td>\n",
       "      <td>CPM</td>\n",
       "      <td>187.4</td>\n",
       "      <td>0.1874</td>\n",
       "    </tr>\n",
       "    <tr>\n",
       "      <th>606</th>\n",
       "      <td>2019-04-02</td>\n",
       "      <td>2019-04-01 22:48:26</td>\n",
       "      <td>click</td>\n",
       "      <td>android</td>\n",
       "      <td>121288</td>\n",
       "      <td>CPM</td>\n",
       "      <td>187.4</td>\n",
       "      <td>0.1874</td>\n",
       "    </tr>\n",
       "  </tbody>\n",
       "</table>\n",
       "<p>607 rows × 8 columns</p>\n",
       "</div>"
      ],
      "text/plain": [
       "           date                 time  event platform   ad_id ad_cost_type  \\\n",
       "0    2019-04-01   2019-04-01 0:00:48   view      web  121288          CPM   \n",
       "1    2019-04-01   2019-04-01 0:04:41   view      ios  121288          CPM   \n",
       "2    2019-04-01   2019-04-01 0:07:50   view  android  121288          CPM   \n",
       "3    2019-04-01   2019-04-01 0:07:50   view  android  121288          CPM   \n",
       "4    2019-04-01   2019-04-01 0:08:46   view      ios  121288          CPM   \n",
       "..          ...                  ...    ...      ...     ...          ...   \n",
       "602  2019-04-02  2019-04-01 22:39:16  click  android  121288          CPM   \n",
       "603  2019-04-02  2019-04-01 22:40:29  click  android  121288          CPM   \n",
       "604  2019-04-02  2019-04-01 22:40:31  click      web  121288          CPM   \n",
       "605  2019-04-02  2019-04-01 22:44:14  click      ios  121288          CPM   \n",
       "606  2019-04-02  2019-04-01 22:48:26  click  android  121288          CPM   \n",
       "\n",
       "     ad_cost  ad_action_cost  \n",
       "0      187.4          0.1874  \n",
       "1      187.4          0.1874  \n",
       "2      187.4          0.1874  \n",
       "3      187.4          0.1874  \n",
       "4      187.4          0.1874  \n",
       "..       ...             ...  \n",
       "602    187.4          0.1874  \n",
       "603    187.4          0.1874  \n",
       "604    187.4          0.1874  \n",
       "605    187.4          0.1874  \n",
       "606    187.4          0.1874  \n",
       "\n",
       "[607 rows x 8 columns]"
      ]
     },
     "execution_count": 18,
     "metadata": {},
     "output_type": "execute_result"
    }
   ],
   "source": [
    "ads['ad_action_cost']=ads['ad_cost']/1000\n",
    "ads"
   ]
  },
  {
   "cell_type": "code",
   "execution_count": 19,
   "id": "05346893",
   "metadata": {},
   "outputs": [
    {
     "data": {
      "text/plain": [
       "0.1874"
      ]
     },
     "execution_count": 19,
     "metadata": {},
     "output_type": "execute_result"
    }
   ],
   "source": [
    "#  Стоимость действия\n",
    "ads['ad_action_cost'].unique()[0]"
   ]
  },
  {
   "cell_type": "code",
   "execution_count": 32,
   "id": "394995a6",
   "metadata": {},
   "outputs": [],
   "source": [
    "# Стоимость затрат: показы *стоимость действия\n",
    "ads_ctr['money'] = ads_ctr['event_x']*ads['ad_action_cost'].unique()[0]"
   ]
  },
  {
   "cell_type": "code",
   "execution_count": 33,
   "id": "2657ddce",
   "metadata": {},
   "outputs": [
    {
     "data": {
      "text/html": [
       "<div>\n",
       "<style scoped>\n",
       "    .dataframe tbody tr th:only-of-type {\n",
       "        vertical-align: middle;\n",
       "    }\n",
       "\n",
       "    .dataframe tbody tr th {\n",
       "        vertical-align: top;\n",
       "    }\n",
       "\n",
       "    .dataframe thead th {\n",
       "        text-align: right;\n",
       "    }\n",
       "</style>\n",
       "<table border=\"1\" class=\"dataframe\">\n",
       "  <thead>\n",
       "    <tr style=\"text-align: right;\">\n",
       "      <th></th>\n",
       "      <th>date</th>\n",
       "      <th>ad_id</th>\n",
       "      <th>event_x</th>\n",
       "      <th>event_y</th>\n",
       "      <th>CTR</th>\n",
       "      <th>money</th>\n",
       "    </tr>\n",
       "  </thead>\n",
       "  <tbody>\n",
       "    <tr>\n",
       "      <th>0</th>\n",
       "      <td>2019-04-01</td>\n",
       "      <td>121288</td>\n",
       "      <td>491</td>\n",
       "      <td>17</td>\n",
       "      <td>3.462322</td>\n",
       "      <td>92.0134</td>\n",
       "    </tr>\n",
       "    <tr>\n",
       "      <th>1</th>\n",
       "      <td>2019-04-02</td>\n",
       "      <td>121288</td>\n",
       "      <td>93</td>\n",
       "      <td>6</td>\n",
       "      <td>6.451613</td>\n",
       "      <td>17.4282</td>\n",
       "    </tr>\n",
       "  </tbody>\n",
       "</table>\n",
       "</div>"
      ],
      "text/plain": [
       "         date   ad_id  event_x  event_y       CTR    money\n",
       "0  2019-04-01  121288      491       17  3.462322  92.0134\n",
       "1  2019-04-02  121288       93        6  6.451613  17.4282"
      ]
     },
     "execution_count": 33,
     "metadata": {},
     "output_type": "execute_result"
    }
   ],
   "source": [
    "ads_ctr"
   ]
  },
  {
   "cell_type": "code",
   "execution_count": 37,
   "id": "a4faae9f",
   "metadata": {},
   "outputs": [],
   "source": [
    "#Метрики за 02.04.2019\n",
    "money_0204=float (ads_ctr[ads_ctr['date']=='2019-04-02']['money'])\n",
    "view_0204=float (ads_ctr[ads_ctr['date']=='2019-04-02']['event_x'])\n",
    "clicks_0204=float (ads_ctr[ads_ctr['date']=='2019-04-02']['event_y'])\n",
    "ctr_0204=float (ads_ctr[ads_ctr['date']=='2019-04-02']['CTR'])"
   ]
  },
  {
   "cell_type": "code",
   "execution_count": 39,
   "id": "18a1dece",
   "metadata": {},
   "outputs": [],
   "source": [
    "#Метрики за 01.04.2019\n",
    "money_0104=float (ads_ctr[ads_ctr['date']=='2019-04-01']['money'])\n",
    "view_0104=float (ads_ctr[ads_ctr['date']=='2019-04-01']['event_x'])\n",
    "clicks_0104=float (ads_ctr[ads_ctr['date']=='2019-04-01']['event_y'])\n",
    "ctr_0104=float (ads_ctr[ads_ctr['date']=='2019-04-01']['CTR'])"
   ]
  },
  {
   "cell_type": "code",
   "execution_count": 44,
   "id": "7d63923d",
   "metadata": {},
   "outputs": [],
   "source": [
    "# Разница в процентах\n",
    "diff_money= round((money_0204 - money_0104)/money_0104*100)\n",
    "diff_view= round ((view_0204 - view_0104)/view_0104*100)\n",
    "diff_clicks= round((clicks_0204 - clicks_0104)/clicks_0104*100)\n",
    "diff_ctr= round((ctr_0204 - ctr_0104)/ctr_0104*100)"
   ]
  },
  {
   "cell_type": "code",
   "execution_count": 50,
   "id": "91d588b1",
   "metadata": {},
   "outputs": [],
   "source": [
    "massage_vk= f'''Отчет по объявлению 121288 за 2 апреля\\n\n",
    "Траты: {money_0204} ({diff_money}%)\n",
    "Показы: {view_0204} ({diff_view}%)\n",
    "Клики: {clicks_0204} ({diff_clicks}%)\n",
    "CTR: {ctr_0204} ({diff_ctr}%)\n",
    "'''"
   ]
  },
  {
   "cell_type": "code",
   "execution_count": 51,
   "id": "66dd1d6f",
   "metadata": {},
   "outputs": [],
   "source": [
    "# Записываем наш отчёт в текстовый файл\n",
    "with open (f'report_2019-04-02.txt', 'w') as file:\n",
    "    file.write(massage_vk)\n",
    "    "
   ]
  },
  {
   "cell_type": "code",
   "execution_count": null,
   "id": "dce93162",
   "metadata": {},
   "outputs": [],
   "source": [
    "app_token =''\n",
    "chat_id = 1\n",
    "my_id = \n",
    "vk_session = vk_api.VkApi(token=app_token)\n",
    "vk = vk_session.get_api()\n",
    "\n",
    "vk.massages.send(chat_id=chat_id, \n",
    "                random_id=random.randint(1,2, ** 31),\n",
    "                massage=massage)\n"
   ]
  },
  {
   "cell_type": "code",
   "execution_count": null,
   "id": "187ce417",
   "metadata": {},
   "outputs": [],
   "source": []
  },
  {
   "cell_type": "code",
   "execution_count": null,
   "id": "0c13ffc5",
   "metadata": {},
   "outputs": [],
   "source": []
  },
  {
   "cell_type": "code",
   "execution_count": null,
   "id": "0901cbaf",
   "metadata": {},
   "outputs": [],
   "source": []
  },
  {
   "cell_type": "code",
   "execution_count": null,
   "id": "e43e8411",
   "metadata": {},
   "outputs": [],
   "source": []
  }
 ],
 "metadata": {
  "kernelspec": {
   "display_name": "Python 3 (ipykernel)",
   "language": "python",
   "name": "python3"
  },
  "language_info": {
   "codemirror_mode": {
    "name": "ipython",
    "version": 3
   },
   "file_extension": ".py",
   "mimetype": "text/x-python",
   "name": "python",
   "nbconvert_exporter": "python",
   "pygments_lexer": "ipython3",
   "version": "3.9.13"
  }
 },
 "nbformat": 4,
 "nbformat_minor": 5
}
