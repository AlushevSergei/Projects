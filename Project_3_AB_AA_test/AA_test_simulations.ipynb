{
 "cells": [
  {
   "cell_type": "code",
   "execution_count": 1,
   "metadata": {},
   "outputs": [],
   "source": [
    "import numpy as np\n",
    "import pandas as pd\n",
    "from scipy import stats\n",
    "from statsmodels.stats.proportion import proportions_ztest \n",
    "import matplotlib.pyplot as plt\n",
    "import itertools\n",
    "\n",
    "from tqdm.auto import tqdm\n",
    "pd.set_option('display.max_rows', 500)\n",
    "pd.set_option('display.max_columns', 500)\n",
    "pd.set_option('display.width',1000)\n"
   ]
  },
  {
   "cell_type": "markdown",
   "metadata": {},
   "source": [
    "#### Описание задания\n",
    "\n",
    "А/А-тестирование мобильного приложения. Необходимо посчитать результаты A/A-теста, проверяя метрику качества FPR (будем проверять на конверсии в покупку). Известно, что сплит-система сломана. Требуется проверить утверждение о поломке и найти ее причины, если сплит-система действительно сломана\n",
    "Описание колонок\n",
    "\n",
    "    experimentVariant – вариант эксперимента\n",
    "    version – версия приложения\n",
    "    purchase – факт покупки\n",
    "\n",
    "Задача\n",
    "\n",
    "    Запустите A/A-тест\n",
    "    Посчитайте FPR на уровне альфа = 0.05 (ставьте подвыборки без возвращения объемом 1000). Вы увидите, что FPR > альфа! Нам нужно наоборот – чтобы было меньше.\n",
    "    Найдите причины поломки сплит-системы, ориентируясь на результаты эксперимента (подсказка: найдите аномалию в версии приложения)\n",
    "    Напишите выводы, которые можно сделать на основе анализа результатов A/A-теста"
   ]
  },
  {
   "cell_type": "code",
   "execution_count": 2,
   "metadata": {
    "scrolled": true
   },
   "outputs": [
    {
     "data": {
      "text/html": [
       "<div>\n",
       "<style scoped>\n",
       "    .dataframe tbody tr th:only-of-type {\n",
       "        vertical-align: middle;\n",
       "    }\n",
       "\n",
       "    .dataframe tbody tr th {\n",
       "        vertical-align: top;\n",
       "    }\n",
       "\n",
       "    .dataframe thead th {\n",
       "        text-align: right;\n",
       "    }\n",
       "</style>\n",
       "<table border=\"1\" class=\"dataframe\">\n",
       "  <thead>\n",
       "    <tr style=\"text-align: right;\">\n",
       "      <th></th>\n",
       "      <th>Unnamed: 0</th>\n",
       "      <th>uid</th>\n",
       "      <th>experimentVariant</th>\n",
       "      <th>version</th>\n",
       "      <th>purchase</th>\n",
       "    </tr>\n",
       "  </thead>\n",
       "  <tbody>\n",
       "    <tr>\n",
       "      <th>0</th>\n",
       "      <td>1</td>\n",
       "      <td>c4ca4238a0b923820dcc509a6f75849b</td>\n",
       "      <td>1</td>\n",
       "      <td>v2.8.0</td>\n",
       "      <td>0</td>\n",
       "    </tr>\n",
       "    <tr>\n",
       "      <th>1</th>\n",
       "      <td>2</td>\n",
       "      <td>c81e728d9d4c2f636f067f89cc14862c</td>\n",
       "      <td>0</td>\n",
       "      <td>v2.9.0</td>\n",
       "      <td>0</td>\n",
       "    </tr>\n",
       "    <tr>\n",
       "      <th>2</th>\n",
       "      <td>3</td>\n",
       "      <td>eccbc87e4b5ce2fe28308fd9f2a7baf3</td>\n",
       "      <td>1</td>\n",
       "      <td>v2.9.0</td>\n",
       "      <td>0</td>\n",
       "    </tr>\n",
       "    <tr>\n",
       "      <th>3</th>\n",
       "      <td>4</td>\n",
       "      <td>a87ff679a2f3e71d9181a67b7542122c</td>\n",
       "      <td>1</td>\n",
       "      <td>v2.8.0</td>\n",
       "      <td>0</td>\n",
       "    </tr>\n",
       "    <tr>\n",
       "      <th>4</th>\n",
       "      <td>5</td>\n",
       "      <td>e4da3b7fbbce2345d7772b0674a318d5</td>\n",
       "      <td>1</td>\n",
       "      <td>v2.8.0</td>\n",
       "      <td>0</td>\n",
       "    </tr>\n",
       "  </tbody>\n",
       "</table>\n",
       "</div>"
      ],
      "text/plain": [
       "   Unnamed: 0                               uid  experimentVariant version  purchase\n",
       "0           1  c4ca4238a0b923820dcc509a6f75849b                  1  v2.8.0         0\n",
       "1           2  c81e728d9d4c2f636f067f89cc14862c                  0  v2.9.0         0\n",
       "2           3  eccbc87e4b5ce2fe28308fd9f2a7baf3                  1  v2.9.0         0\n",
       "3           4  a87ff679a2f3e71d9181a67b7542122c                  1  v2.8.0         0\n",
       "4           5  e4da3b7fbbce2345d7772b0674a318d5                  1  v2.8.0         0"
      ]
     },
     "execution_count": 2,
     "metadata": {},
     "output_type": "execute_result"
    }
   ],
   "source": [
    "hw=pd.read_csv('hw_aa.csv', sep = ';')\n",
    "hw.head()\n",
    "#df.info()"
   ]
  },
  {
   "cell_type": "code",
   "execution_count": null,
   "metadata": {},
   "outputs": [],
   "source": [
    "Будем сравнивать метрику(она у нас одна), а именно  purchase (факт совершения покупки)\n",
    "между вариантами эксперимента experimentVariant и version (версиями) "
   ]
  },
  {
   "cell_type": "markdown",
   "metadata": {},
   "source": [
    "#### Создаем функцию metric_fpr котрая будет считать fpr с помощью АА тестирования.\n",
    "#### df_x - значения для варианта 1, \n",
    "#### df_y - значения для варианта 2, \n",
    "#### metric_col - целевая метрика для проверки в данном случае это purchase, \n",
    "#### n_sim - количество симуляций, \n",
    "#### n_s_perc - % наблюдений от исходной которое мы будем брать для подвыборок, \n",
    "#### n_s_min - граница наблюдений выше которой мы не будем брать, \n",
    "#### estimator - оценщик, \n",
    "#### *arqs, **kwarqs - аргументы для оценщика"
   ]
  },
  {
   "cell_type": "code",
   "execution_count": 6,
   "metadata": {},
   "outputs": [],
   "source": [
    "def metric_fpr (df_x, df_y, metric_col, n_sim, n_s_perc, n_s_min, estimator, *arqs, **kwarqs):\n",
    "    stat_res = {'aa':{'pvalue': [], 'mu_x': [], 'mu_y': []}, 'fpr': {'fpr_95': 0}}\n",
    "    # Берем [metric_col] - % значений  от исходной выборки, но не более n_s_min\n",
    "    for sim in range(n_sim):\n",
    "        x=df_x[metric_col].sample(int(min(n_s_min, len(df_x)*n_s_perc)), replace = False).values\n",
    "        y=df_y[metric_col].sample(int(min(n_s_min, len(df_y)*n_s_perc)), replace = False).values\n",
    "        \n",
    "        # Используем 1 оценщик proportions_ztest и оценщик 2 ttest\n",
    "        if estimator =='prop':\n",
    "            counts = np.array ([sum(x), sum(y)])\n",
    "            nobs = np.array ([len(x), len(y)])\n",
    "            stat, pvalue = proportions_ztest(counts, nobs, *arqs, **kwarqs)\n",
    "            \n",
    "        if estimator =='ttest':\n",
    "            stat, pvalue = stats.ttest_ind(x, y, *arqs, **kwarqs)\n",
    "            \n",
    "        # Будем записывать pvalueсреднее значенние по X и Y   \n",
    "        stat_res['aa']['pvalue'].append (pvalue)\n",
    "        stat_res['aa']['mu_x'].append (np.mean(x))\n",
    "        stat_res['aa']['mu_y'].append (np.mean(y))\n",
    "        \n",
    "    # На выходе проверяем уровень значимости     \n",
    "    stat_res['fpr']['fpr_95'] = float(sum(np.array(stat_res['aa']['pvalue'])<=0.05)/n_sim)\n",
    "    return stat_res\n",
    "     \n"
   ]
  },
  {
   "cell_type": "markdown",
   "metadata": {},
   "source": [
    "#### Вторая функция будет использовать первую и будет проходить по всем группам (в данном случае это версии продукта)\n",
    "#### и там будем искать разницу между среднимими их значениями"
   ]
  },
  {
   "cell_type": "code",
   "execution_count": 9,
   "metadata": {},
   "outputs": [],
   "source": [
    "def fpr_report (df, metric_col, variant_col, group_col, n_sim, n_s_perc, n_s_min, estimator, *arqs, **kwarqs):\n",
    "    list_fpr = []\n",
    "    list_group = list(pd.unique(df[group_col]))\n",
    "    \n",
    "    for v in range (len(list_group)):\n",
    "        df_x = df[(df[variant_col]==0)&(df[group_col]==list_group[v])]\n",
    "        df_y = df[(df[variant_col]==1)&(df[group_col]==list_group[v])]\n",
    "        cr_x = sum (df_x[metric])/len(df_x)\n",
    "        cr_y = sum (df_x[metric])/len(df_y)\n",
    "        \n",
    "        fpr = {}\n",
    "        fpr = metric_fpr (df_x=df_x, df_y = df_y, metric_col = metric, n_sim = n_sim, n_s_perc = n_s_perc, n_s_min=n_s_min, estimator=estimator, *arqs, **kwarqs)\n",
    "        is_fpr = (fpr['fpr']['fpr_95']<=0.05)\n",
    "        list_fpr.append ([list_group[v], cr_x, cr_y, fpr['fpr']['fpr_95'],is_fpr ])\n",
    "        \n",
    "    report = pd.DataFrame.from_records(list_fpr, columns = ['group', 'cr_x', 'cr_y', 'fpr_95', 'is_fpr' ])\n",
    "    return report"
   ]
  },
  {
   "cell_type": "code",
   "execution_count": null,
   "metadata": {},
   "outputs": [],
   "source": []
  },
  {
   "cell_type": "code",
   "execution_count": 10,
   "metadata": {},
   "outputs": [
    {
     "data": {
      "text/html": [
       "<div>\n",
       "<style scoped>\n",
       "    .dataframe tbody tr th:only-of-type {\n",
       "        vertical-align: middle;\n",
       "    }\n",
       "\n",
       "    .dataframe tbody tr th {\n",
       "        vertical-align: top;\n",
       "    }\n",
       "\n",
       "    .dataframe thead th {\n",
       "        text-align: right;\n",
       "    }\n",
       "</style>\n",
       "<table border=\"1\" class=\"dataframe\">\n",
       "  <thead>\n",
       "    <tr style=\"text-align: right;\">\n",
       "      <th></th>\n",
       "      <th>group</th>\n",
       "      <th>cr_x</th>\n",
       "      <th>cr_y</th>\n",
       "      <th>fpr_95</th>\n",
       "      <th>is_fpr</th>\n",
       "    </tr>\n",
       "  </thead>\n",
       "  <tbody>\n",
       "    <tr>\n",
       "      <th>0</th>\n",
       "      <td>v2.8.0</td>\n",
       "      <td>0.000993</td>\n",
       "      <td>0.000987</td>\n",
       "      <td>1.000</td>\n",
       "      <td>False</td>\n",
       "    </tr>\n",
       "    <tr>\n",
       "      <th>1</th>\n",
       "      <td>v2.9.0</td>\n",
       "      <td>0.074658</td>\n",
       "      <td>0.073963</td>\n",
       "      <td>0.051</td>\n",
       "      <td>False</td>\n",
       "    </tr>\n",
       "    <tr>\n",
       "      <th>2</th>\n",
       "      <td>v3.7.4.0</td>\n",
       "      <td>0.059943</td>\n",
       "      <td>0.059701</td>\n",
       "      <td>0.033</td>\n",
       "      <td>True</td>\n",
       "    </tr>\n",
       "    <tr>\n",
       "      <th>3</th>\n",
       "      <td>v3.8.0.0</td>\n",
       "      <td>0.057604</td>\n",
       "      <td>0.053682</td>\n",
       "      <td>0.065</td>\n",
       "      <td>False</td>\n",
       "    </tr>\n",
       "  </tbody>\n",
       "</table>\n",
       "</div>"
      ],
      "text/plain": [
       "      group      cr_x      cr_y  fpr_95  is_fpr\n",
       "0    v2.8.0  0.000993  0.000987   1.000   False\n",
       "1    v2.9.0  0.074658  0.073963   0.051   False\n",
       "2  v3.7.4.0  0.059943  0.059701   0.033    True\n",
       "3  v3.8.0.0  0.057604  0.053682   0.065   False"
      ]
     },
     "execution_count": 10,
     "metadata": {},
     "output_type": "execute_result"
    }
   ],
   "source": [
    "n_sim  = 1000\n",
    "n_s_perc =0.9 # Подвыборки берем 90% от исходной\n",
    "n_s_min = 1000 # Количество итераций\n",
    "metric = 'purchase'\n",
    "variant = 'experimentVariant'\n",
    "group = 'version'\n",
    "\n",
    "res=fpr_report(df=hw, metric_col = metric, variant_col =variant, group_col=group, n_sim = n_sim, n_s_perc=n_s_perc, n_s_min=n_s_min, estimator='ttest' )\n",
    "res\n"
   ]
  },
  {
   "cell_type": "code",
   "execution_count": null,
   "metadata": {},
   "outputs": [],
   "source": [
    "Из указанного выше тестирования видно что 3.7.4.0 AA тест прошла, 2.8.0 абсолютно поломана значение равно 1,\n",
    "версии 2.9.0 и 3.8.0.0 близки к норме, но надо прогнать еще и посмотреть, а так ли это на самом деле и не будет ли более серьзный разрыв от нормы \n"
   ]
  },
  {
   "cell_type": "code",
   "execution_count": 22,
   "metadata": {},
   "outputs": [
    {
     "name": "stdout",
     "output_type": "stream",
     "text": [
      "FPR = 1.0\n"
     ]
    },
    {
     "data": {
      "image/png": "[encoded data removed]",
      "text/plain": [
       "<Figure size 640x480 with 1 Axes>"
      ]
     },
     "metadata": {},
     "output_type": "display_data"
    }
   ],
   "source": [
    "res = metric_fpr( hw[( hw['experimentVariant']==0)&( hw['version']=='v2.8.0')],  hw[( hw['experimentVariant']==1)&( hw['version']=='v2.8.0')], metric_col = metric, n_sim = 1000, n_s_perc = n_s_perc, n_s_min = n_s_min, estimator = 'prop')\n",
    "# так же при необходимости estimator = stats.ttest_ind\n",
    "\n",
    "print ('FPR = {}'.format (res['fpr']['fpr_95']))\n",
    "\n",
    "plt.hist(res['aa']['pvalue'], bins = 50)\n",
    "plt.style.use('ggplot')\n",
    "plt.xlabel('pvalues')\n",
    "plt.ylabel('frequency')\n",
    "plt.title(\"Histogram of ttest A/A simulations \")\n",
    "plt.show()\n"
   ]
  },
  {
   "cell_type": "code",
   "execution_count": null,
   "metadata": {},
   "outputs": [],
   "source": [
    "Да действительно сравнив версию 2.8.0 ложноположительных оценок меньше альфа, равно 100%"
   ]
  },
  {
   "cell_type": "code",
   "execution_count": null,
   "metadata": {},
   "outputs": [],
   "source": [
    "На примере ниже, мы исключили версию 2.8.0"
   ]
  },
  {
   "cell_type": "code",
   "execution_count": 25,
   "metadata": {},
   "outputs": [
    {
     "name": "stdout",
     "output_type": "stream",
     "text": [
      "FPR = 0.044\n"
     ]
    },
    {
     "data": {
      "image/png": "[encoded data removed]",
      "text/plain": [
       "<Figure size 640x480 with 1 Axes>"
      ]
     },
     "metadata": {},
     "output_type": "display_data"
    }
   ],
   "source": [
    "hw_fitrd = hw[(hw['version']!='v2.8.0')]\n",
    "res = metric_fpr(hw_fitrd[( hw_fitrd['experimentVariant']==0)],  hw_fitrd[( hw_fitrd['experimentVariant']==1)], metric_col = metric, n_sim = 1000, n_s_perc = n_s_perc, n_s_min = n_s_min, estimator = 'prop')\n",
    "print ('FPR = {}'.format (res['fpr']['fpr_95']))\n",
    "\n",
    "plt.hist(res['aa']['pvalue'], bins = 50)\n",
    "plt.style.use('ggplot')\n",
    "plt.xlabel('pvalues')\n",
    "plt.ylabel('frequency')\n",
    "plt.title(\"Histogram of ttest A/A simulations \")\n",
    "plt.show()"
   ]
  },
  {
   "cell_type": "code",
   "execution_count": null,
   "metadata": {},
   "outputs": [],
   "source": [
    "Распределение pvalue более менее равномерное (в данном случае повлиял тип и особенность оценщика, на то что не очень получилось равномерно)"
   ]
  },
  {
   "cell_type": "markdown",
   "metadata": {},
   "source": [
    "# Вариант 2 решения задачи (домашка студента, просто проведен АА тест используя пример из лекции 3 )"
   ]
  },
  {
   "cell_type": "code",
   "execution_count": 26,
   "metadata": {},
   "outputs": [
    {
     "data": {
      "text/html": [
       "<div>\n",
       "<style scoped>\n",
       "    .dataframe tbody tr th:only-of-type {\n",
       "        vertical-align: middle;\n",
       "    }\n",
       "\n",
       "    .dataframe tbody tr th {\n",
       "        vertical-align: top;\n",
       "    }\n",
       "\n",
       "    .dataframe thead th {\n",
       "        text-align: right;\n",
       "    }\n",
       "</style>\n",
       "<table border=\"1\" class=\"dataframe\">\n",
       "  <thead>\n",
       "    <tr style=\"text-align: right;\">\n",
       "      <th></th>\n",
       "      <th>Unnamed: 0</th>\n",
       "      <th>uid</th>\n",
       "      <th>experimentVariant</th>\n",
       "      <th>version</th>\n",
       "      <th>purchase</th>\n",
       "    </tr>\n",
       "  </thead>\n",
       "  <tbody>\n",
       "    <tr>\n",
       "      <th>0</th>\n",
       "      <td>1</td>\n",
       "      <td>c4ca4238a0b923820dcc509a6f75849b</td>\n",
       "      <td>1</td>\n",
       "      <td>v2.8.0</td>\n",
       "      <td>0</td>\n",
       "    </tr>\n",
       "    <tr>\n",
       "      <th>1</th>\n",
       "      <td>2</td>\n",
       "      <td>c81e728d9d4c2f636f067f89cc14862c</td>\n",
       "      <td>0</td>\n",
       "      <td>v2.9.0</td>\n",
       "      <td>0</td>\n",
       "    </tr>\n",
       "    <tr>\n",
       "      <th>2</th>\n",
       "      <td>3</td>\n",
       "      <td>eccbc87e4b5ce2fe28308fd9f2a7baf3</td>\n",
       "      <td>1</td>\n",
       "      <td>v2.9.0</td>\n",
       "      <td>0</td>\n",
       "    </tr>\n",
       "    <tr>\n",
       "      <th>3</th>\n",
       "      <td>4</td>\n",
       "      <td>a87ff679a2f3e71d9181a67b7542122c</td>\n",
       "      <td>1</td>\n",
       "      <td>v2.8.0</td>\n",
       "      <td>0</td>\n",
       "    </tr>\n",
       "    <tr>\n",
       "      <th>4</th>\n",
       "      <td>5</td>\n",
       "      <td>e4da3b7fbbce2345d7772b0674a318d5</td>\n",
       "      <td>1</td>\n",
       "      <td>v2.8.0</td>\n",
       "      <td>0</td>\n",
       "    </tr>\n",
       "  </tbody>\n",
       "</table>\n",
       "</div>"
      ],
      "text/plain": [
       "   Unnamed: 0                               uid  experimentVariant version  purchase\n",
       "0           1  c4ca4238a0b923820dcc509a6f75849b                  1  v2.8.0         0\n",
       "1           2  c81e728d9d4c2f636f067f89cc14862c                  0  v2.9.0         0\n",
       "2           3  eccbc87e4b5ce2fe28308fd9f2a7baf3                  1  v2.9.0         0\n",
       "3           4  a87ff679a2f3e71d9181a67b7542122c                  1  v2.8.0         0\n",
       "4           5  e4da3b7fbbce2345d7772b0674a318d5                  1  v2.8.0         0"
      ]
     },
     "execution_count": 26,
     "metadata": {},
     "output_type": "execute_result"
    }
   ],
   "source": [
    "data = pd.read_csv('hw_aa.csv', sep = ';')\n",
    "data.head()"
   ]
  },
  {
   "cell_type": "code",
   "execution_count": 27,
   "metadata": {},
   "outputs": [
    {
     "data": {
      "application/vnd.jupyter.widget-view+json": {
       "model_id": "f181fc5f2ee84eb28b99ffdb54f26e3c",
       "version_major": 2,
       "version_minor": 0
      },
      "text/plain": [
       "  0%|          | 0/1000 [00:00<?, ?it/s]"
      ]
     },
     "metadata": {},
     "output_type": "display_data"
    },
    {
     "data": {
      "image/png": "[encoded data removed]",
      "text/plain": [
       "<Figure size 640x480 with 1 Axes>"
      ]
     },
     "metadata": {},
     "output_type": "display_data"
    },
    {
     "data": {
      "text/plain": [
       "0.938"
      ]
     },
     "execution_count": 27,
     "metadata": {},
     "output_type": "execute_result"
    }
   ],
   "source": [
    "#p-value должен получиться меньше 0.05\n",
    "n = 100000\n",
    "simulations = 1000\n",
    "n_s = 1000\n",
    "res = []\n",
    "\n",
    "\n",
    "# Запуск симуляций A/A теста\n",
    "for i in tqdm(range(simulations)):\n",
    "    s1 = data[(data['experimentVariant'] == 1)]['purchase'].sample(n_s, replace = False).values\n",
    "    s2 = data[(data['experimentVariant'] == 0)]['purchase'].sample(n_s, replace = False).values\n",
    "    res.append(stats.ttest_ind(s1, s2, equal_var = False)[1]) # сохраняем pvalue\n",
    "\n",
    "plt.hist(res, bins = 50)\n",
    "plt.style.use('ggplot')\n",
    "plt.xlabel('pvalues')\n",
    "plt.ylabel('frequency')\n",
    "plt.title(\"Histogram of ttest A/A simulations \")\n",
    "plt.show()\n",
    "\n",
    "# Проверяем, что количество ложноположительных случаев не превышает альфа\n",
    "sum(np.array(res) <0.05) / simulations"
   ]
  },
  {
   "cell_type": "code",
   "execution_count": 32,
   "metadata": {},
   "outputs": [
    {
     "data": {
      "text/html": [
       "<div>\n",
       "<style scoped>\n",
       "    .dataframe tbody tr th:only-of-type {\n",
       "        vertical-align: middle;\n",
       "    }\n",
       "\n",
       "    .dataframe tbody tr th {\n",
       "        vertical-align: top;\n",
       "    }\n",
       "\n",
       "    .dataframe thead th {\n",
       "        text-align: right;\n",
       "    }\n",
       "</style>\n",
       "<table border=\"1\" class=\"dataframe\">\n",
       "  <thead>\n",
       "    <tr style=\"text-align: right;\">\n",
       "      <th></th>\n",
       "      <th>purchase</th>\n",
       "    </tr>\n",
       "    <tr>\n",
       "      <th>version</th>\n",
       "      <th></th>\n",
       "    </tr>\n",
       "  </thead>\n",
       "  <tbody>\n",
       "    <tr>\n",
       "      <th>v2.8.0</th>\n",
       "      <td>0.023372</td>\n",
       "    </tr>\n",
       "    <tr>\n",
       "      <th>v2.9.0</th>\n",
       "      <td>0.072973</td>\n",
       "    </tr>\n",
       "    <tr>\n",
       "      <th>v3.7.4.0</th>\n",
       "      <td>0.061484</td>\n",
       "    </tr>\n",
       "    <tr>\n",
       "      <th>v3.8.0.0</th>\n",
       "      <td>0.060319</td>\n",
       "    </tr>\n",
       "  </tbody>\n",
       "</table>\n",
       "</div>"
      ],
      "text/plain": [
       "          purchase\n",
       "version           \n",
       "v2.8.0    0.023372\n",
       "v2.9.0    0.072973\n",
       "v3.7.4.0  0.061484\n",
       "v3.8.0.0  0.060319"
      ]
     },
     "execution_count": 32,
     "metadata": {},
     "output_type": "execute_result"
    }
   ],
   "source": [
    "#посмотрим на среднее в разрезе версий\n",
    "data.groupby(['version']).agg({'purchase':'mean'})"
   ]
  },
  {
   "cell_type": "code",
   "execution_count": 33,
   "metadata": {},
   "outputs": [
    {
     "name": "stdout",
     "output_type": "stream",
     "text": [
      "ShapiroResult(statistic=0.12385976314544678, pvalue=0.0)\n",
      "ShapiroResult(statistic=0.27437031269073486, pvalue=0.0)\n",
      "ShapiroResult(statistic=0.24883735179901123, pvalue=0.0)\n",
      "ShapiroResult(statistic=0.2541196942329407, pvalue=0.0)\n"
     ]
    }
   ],
   "source": [
    "#проверим распределение каждой из групп\n",
    "print(stats.shapiro(data[data['version'] == 'v2.8.0']['purchase'].sample(1000, random_state=17)))\n",
    "print(stats.shapiro(data[data['version'] == 'v2.9.0']['purchase'].sample(1000, random_state=17)))\n",
    "print(stats.shapiro(data[data['version'] == 'v3.7.4.0']['purchase'].sample(1000, random_state=17)))\n",
    "print(stats.shapiro(data[data['version'] == 'v3.8.0.0']['purchase'].sample(1000, random_state=17)))\n"
   ]
  },
  {
   "cell_type": "code",
   "execution_count": null,
   "metadata": {},
   "outputs": [],
   "source": [
    "Тест Шапиро-Уилка является тестом на нормальность. \n",
    "Он используется для определения того, соответствует ли выборка нормальному распределению .\n",
    "\n",
    "Этот тип теста полезен для определения того, исходит ли данный набор данных из нормального распределения,\n",
    "что является распространенным предположением, используемым во многих статистических тестах, включая регрессию, \n",
    "дисперсионный анализ , t-тесты и многие другие."
   ]
  },
  {
   "cell_type": "code",
   "execution_count": null,
   "metadata": {},
   "outputs": [],
   "source": []
  },
  {
   "cell_type": "markdown",
   "metadata": {},
   "source": [
    "# Примеры из леции 2 по АА тестам"
   ]
  },
  {
   "cell_type": "code",
   "execution_count": 52,
   "metadata": {},
   "outputs": [
    {
     "data": {
      "application/vnd.jupyter.widget-view+json": {
       "model_id": "4ed38243bf454bd2b5b3eabb8ff8e30d",
       "version_major": 2,
       "version_minor": 0
      },
      "text/plain": [
       "HBox(children=(FloatProgress(value=0.0, max=1000.0), HTML(value='')))"
      ]
     },
     "metadata": {},
     "output_type": "display_data"
    },
    {
     "name": "stdout",
     "output_type": "stream",
     "text": [
      "\n"
     ]
    },
    {
     "data": {
      "image/png": "[encoded data removed]",
      "text/plain": [
       "<Figure size 432x288 with 1 Axes>"
      ]
     },
     "metadata": {},
     "output_type": "display_data"
    },
    {
     "data": {
      "text/plain": [
       "0.056"
      ]
     },
     "execution_count": 52,
     "metadata": {},
     "output_type": "execute_result"
    }
   ],
   "source": [
    "n = 100000\n",
    "simulations = 1000\n",
    "n_s = 1000\n",
    "res = []\n",
    "\n",
    "df = pd.DataFrame({\n",
    "    \"s1\": np.random.exponential(scale=1/0.001, size=n),\n",
    "    \"s2\": np.random.exponential(scale=1/0.001, size=n)\n",
    "})\n",
    "\n",
    "# Запуск симуляций A/A теста\n",
    "for i in tqdm(range(simulations)):\n",
    "    s1 = df['s1'].sample(n_s, replace = False).values\n",
    "    s2 = df['s2'].sample(n_s, replace = False).values\n",
    "    res.append(stats.ttest_ind(s1, s2, equal_var = False)[1]) # сохраняем pvalue\n",
    "\n",
    "plt.hist(res, bins = 50)\n",
    "plt.style.use('ggplot')\n",
    "plt.xlabel('pvalues')\n",
    "plt.ylabel('frequency')\n",
    "plt.title(\"Histogram of ttest A/A simulations \")\n",
    "plt.show()\n",
    "\n",
    "# Проверяем, что количество ложноположительных случаев не превышает альфа\n",
    "sum(np.array(res) <0.05) / simulations"
   ]
  },
  {
   "cell_type": "markdown",
   "metadata": {},
   "source": [
    "### Второй случай, когда A/A-тест не сходится"
   ]
  },
  {
   "cell_type": "code",
   "execution_count": 51,
   "metadata": {},
   "outputs": [
    {
     "data": {
      "application/vnd.jupyter.widget-view+json": {
       "model_id": "0ae7dd03a3af491aa168decd1b245ce8",
       "version_major": 2,
       "version_minor": 0
      },
      "text/plain": [
       "HBox(children=(FloatProgress(value=0.0, max=1000.0), HTML(value='')))"
      ]
     },
     "metadata": {},
     "output_type": "display_data"
    },
    {
     "name": "stdout",
     "output_type": "stream",
     "text": [
      "\n"
     ]
    },
    {
     "data": {
      "image/png": "[encoded data removed]",
      "text/plain": [
       "<Figure size 432x288 with 1 Axes>"
      ]
     },
     "metadata": {},
     "output_type": "display_data"
    },
    {
     "data": {
      "text/plain": [
       "0.541"
      ]
     },
     "execution_count": 51,
     "metadata": {},
     "output_type": "execute_result"
    }
   ],
   "source": [
    "n = 100000\n",
    "simulations = 1000\n",
    "n_s = 1000\n",
    "res = []\n",
    "\n",
    "df = pd.DataFrame({\n",
    "    \"s1\": np.random.exponential(scale=1/0.001, size=n),\n",
    "    \"s2\": np.random.exponential(scale=1/0.001, size=n) * 1.1 # добавляем эффект 10%\n",
    "})\n",
    "\n",
    "for i in tqdm(range(simulations)):\n",
    "    s1 = df['s1'].sample(n_s, replace = False).values\n",
    "    s2 = df['s2'].sample(n_s, replace = False).values\n",
    "    res.append(stats.ttest_ind(s1, s2, equal_var = False)[1])\n",
    "\n",
    "plt.hist(res, bins = 50)\n",
    "plt.style.use('ggplot')\n",
    "plt.xlabel('pvalues')\n",
    "plt.ylabel('frequency')\n",
    "plt.title(\"Histogram of ttest A/A simulations \")\n",
    "plt.show()\n",
    "\n",
    "# FPR не сойдется\n",
    "sum(np.array(res) <0.05) / simulations"
   ]
  },
  {
   "cell_type": "code",
   "execution_count": null,
   "metadata": {},
   "outputs": [],
   "source": []
  }
 ],
 "metadata": {
  "kernelspec": {
   "display_name": "Python 3 (ipykernel)",
   "language": "python",
   "name": "python3"
  },
  "language_info": {
   "codemirror_mode": {
    "name": "ipython",
    "version": 3
   },
   "file_extension": ".py",
   "mimetype": "text/x-python",
   "name": "python",
   "nbconvert_exporter": "python",
   "pygments_lexer": "ipython3",
   "version": "3.9.13"
  }
 },
 "nbformat": 4,
 "nbformat_minor": 4
}
